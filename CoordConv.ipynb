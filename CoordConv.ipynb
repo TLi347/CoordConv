{
 "cells": [
  {
   "cell_type": "code",
   "execution_count": 1,
   "metadata": {},
   "outputs": [],
   "source": [
    "import os\n",
    "import numpy as np\n",
    "import matplotlib.pyplot as plt\n",
    "import torch\n",
    "import torch.nn as nn\n",
    "import torch.nn.modules.conv as conv\n",
    "import torch.utils.data as utils\n",
    "import torch.nn.functional as F\n",
    "\n",
    "from torch.autograd import Variable\n",
    "from sklearn.model_selection import train_test_split\n",
    "from torchsummary import summary"
   ]
  },
  {
   "cell_type": "code",
   "execution_count": 2,
   "metadata": {},
   "outputs": [],
   "source": [
    "class AddCoords(nn.Module):\n",
    "    def __init__(self, rank, with_r=False):\n",
    "        super(AddCoords, self).__init__()\n",
    "        self.rank = rank\n",
    "        self.with_r = with_r\n",
    "\n",
    "    def forward(self, input_tensor):\n",
    "        r\"\"\"\n",
    "        input_tensor: (N, C_in,H,W)\n",
    "        :param input_tensor:\n",
    "        :return:\n",
    "        \"\"\"\n",
    "        if self.rank == 1:\n",
    "            raise NotImplementedError\n",
    "            batch_size_shape, channel_in_shape, dim_x = input_tensor.shape\n",
    "            xx_range = torch.arange(dim_x, dtype=torch.int32).unsqueeze(0)\n",
    "            xx_channel = xx_range.unsqueeze(0)\n",
    "\n",
    "            xx_channel = xx_channel.float() / (dim_x - 1)\n",
    "            xx_channel = xx_channel * 2 - 1\n",
    "            xx_channel = xx_channel.repeat(batch_size_shape, 1, 1)\n",
    "\n",
    "            if torch.cuda.is_available:\n",
    "                input_tensor = input_tensor.cuda()\n",
    "                xx_channel = xx_channel.cuda()\n",
    "            out = torch.cat([input_tensor, xx_channel], dim=1)\n",
    "\n",
    "            if self.with_r:\n",
    "                rr = torch.sqrt(torch.pow(xx_channel - 0.5, 2))\n",
    "                out = torch.cat([out, rr], dim=1)\n",
    "        elif self.rank == 2:\n",
    "            batch_size_shape, channel_in_shape, dim_y, dim_x = input_tensor.shape\n",
    "            xx_ones = torch.ones([1, dim_x], dtype=torch.int32)\n",
    "            yy_ones = torch.ones([1, dim_y], dtype=torch.int32)\n",
    "\n",
    "            xx_range = torch.arange(dim_y, dtype=torch.int32).unsqueeze(0)\n",
    "            yy_range = torch.arange(dim_x, dtype=torch.int32).unsqueeze(0)\n",
    "            xx_range = xx_range.unsqueeze(-1)\n",
    "            yy_range = yy_range.unsqueeze(-1)\n",
    "            \n",
    "            xx_channel = torch.matmul(xx_range, xx_ones)\n",
    "            yy_channel = torch.matmul(yy_range, yy_ones)\n",
    "            xx_channel = xx_channel.unsqueeze(0)\n",
    "            yy_channel = yy_channel.unsqueeze(0)\n",
    "            \n",
    "            # transpose y\n",
    "            yy_channel = yy_channel.permute(0, 1, 3, 2)\n",
    "            \n",
    "            xx_channel = xx_channel.float() / (dim_y - 1)\n",
    "            yy_channel = yy_channel.float() / (dim_x - 1)\n",
    "\n",
    "            xx_channel = xx_channel * 2 - 1\n",
    "            yy_channel = yy_channel * 2 - 1\n",
    "\n",
    "            xx_channel = xx_channel.repeat(batch_size_shape, 1, 1, 1)\n",
    "            yy_channel = yy_channel.repeat(batch_size_shape, 1, 1, 1)\n",
    "\n",
    "            if torch.cuda.is_available:\n",
    "                input_tensor = input_tensor.cuda()\n",
    "                xx_channel = xx_channel.cuda()\n",
    "                yy_channel = yy_channel.cuda()\n",
    "            out = torch.cat([input_tensor, xx_channel, yy_channel], dim=1)\n",
    "\n",
    "            if self.with_r:\n",
    "                rr = torch.sqrt(torch.pow(xx_channel - 0.5, 2) + torch.pow(yy_channel - 0.5, 2))\n",
    "                out = torch.cat([out, rr], dim=1)\n",
    "        elif self.rank == 3:\n",
    "            batch_size_shape, channel_in_shape, dim_z, dim_y, dim_x = input_tensor.shape\n",
    "            xx_ones = torch.ones([1, dim_x], dtype=torch.int32)\n",
    "            yy_ones = torch.ones([1, dim_y], dtype=torch.int32)\n",
    "            zz_ones = torch.ones([1, dim_z], dtype=torch.int32)\n",
    "\n",
    "            xy_range = torch.arange(dim_y, dtype=torch.int32).unsqueeze(0)\n",
    "            xy_range = xy_range.unsqueeze(-1)\n",
    "\n",
    "            yz_range = torch.arange(dim_z, dtype=torch.int32).unsqueeze(0)\n",
    "            yz_range = yz_range.unsqueeze(-1)\n",
    "\n",
    "            zx_range = torch.arange(dim_x, dtype=torch.int32).unsqueeze(0)\n",
    "            zx_range = zx_range.unsqueeze(-1)\n",
    "\n",
    "            xy_channel = torch.matmul(xy_range, xx_ones)\n",
    "            xy_channel = xy_channel.unsqueeze(0)\n",
    "            xx_channel = torch.stack([xy_channel + i for i in range(dim_z)], dim=2)\n",
    "\n",
    "            yz_channel = torch.matmul(yz_range, yy_ones)\n",
    "            yz_channel = yz_channel.unsqueeze(0)\n",
    "            yy_channel = torch.stack([yz_channel + i for i in range(dim_x)], dim=4)\n",
    "\n",
    "            zx_channel = torch.matmul(zx_range, zz_ones)\n",
    "            zx_channel = zx_channel.unsqueeze(0)\n",
    "            zx_channel = zx_channel.permute(0,1,3,2)\n",
    "            zz_channel = torch.stack([zx_channel + i for i in range(dim_y)], dim=3) \n",
    "\n",
    "            if torch.cuda.is_available:\n",
    "                input_tensor = input_tensor.cuda()\n",
    "                xx_channel = xx_channel.cuda()\n",
    "                yy_channel = yy_channel.cuda()\n",
    "                zz_channel = zz_channel.cuda()\n",
    "            out = torch.cat([input_tensor, xx_channel, yy_channel, zz_channel], dim=1)\n",
    "\n",
    "            if self.with_r:\n",
    "                rr = torch.sqrt(torch.pow(xx_channel - 0.5, 2) +\\\n",
    "                                torch.pow(yy_channel - 0.5, 2) +\\\n",
    "                                torch.pow(zz_channel - 0.5, 2))\n",
    "                out = torch.cat([out, rr], dim=1)\n",
    "        else:\n",
    "            raise NotImplementedError\n",
    "\n",
    "        return out\n",
    "\n",
    "\n",
    "class CoordConv2d(conv.Conv2d):\n",
    "    def __init__(self, in_channels, out_channels, kernel_size, stride=1,\n",
    "                 padding=0, dilation=1, groups=1, bias=True, with_r=False):\n",
    "        super(CoordConv2d, self).__init__(in_channels, out_channels, kernel_size,\n",
    "                                          stride, padding, dilation, groups, bias)\n",
    "        self.rank = 2\n",
    "        self.addcoords = AddCoords(self.rank, with_r)\n",
    "        self.conv = nn.Conv2d(in_channels+self.rank+int(with_r), out_channels,\n",
    "                              kernel_size, stride, padding, dilation, groups, bias)\n",
    "\n",
    "    def forward(self, input_tensor):\n",
    "        r\"\"\"\n",
    "        输入的尺度是(N, C_in,H,W)，输出尺度（N,C_out,H_out,W_out）\n",
    "        :param input_tensor:\n",
    "        :return:\n",
    "        \"\"\"\n",
    "        out = self.addcoords(input_tensor)\n",
    "        out = self.conv(out)\n",
    "\n",
    "        return out"
   ]
  },
  {
   "cell_type": "markdown",
   "metadata": {},
   "source": [
    "## Generate Data"
   ]
  },
  {
   "cell_type": "code",
   "execution_count": 3,
   "metadata": {},
   "outputs": [
    {
     "data": {
      "text/plain": [
       "<torch._C.Generator at 0x7f6c68745050>"
      ]
     },
     "execution_count": 3,
     "metadata": {},
     "output_type": "execute_result"
    }
   ],
   "source": [
    "datatype = 'uniform'\n",
    "assert datatype in ['uniform', 'quadrant']\n",
    "\n",
    "if not os.path.exists('data-uniform/'):\n",
    "    os.makedirs('data-uniform/')\n",
    "\n",
    "if not os.path.exists('data-quadrant/'):\n",
    "    os.makedirs('data-quadrant/')\n",
    "\n",
    "np.random.seed(0)\n",
    "torch.manual_seed(0)"
   ]
  },
  {
   "cell_type": "code",
   "execution_count": 4,
   "metadata": {},
   "outputs": [],
   "source": [
    "onehots = np.pad(np.eye(3136, dtype='float32').reshape((3136, 56, 56, 1)),\n",
    "                     ((0, 0), (4, 4), (4, 4), (0, 0)), mode=\"constant\")\n",
    "onehots = onehots.transpose(0, 3, 1, 2)\n",
    "\n",
    "onehots_tensor = torch.from_numpy(onehots)\n",
    "\n",
    "conv_layer = nn.Conv2d(in_channels=1, out_channels=1, kernel_size=(9,9), padding=4, stride=1)\n",
    "w = torch.ones(1, 1, 9, 9)\n",
    "conv_layer.weight.data = w\n",
    "\n",
    "images_tensor = conv_layer(onehots_tensor)\n",
    "images = images_tensor.detach().numpy()\n",
    "\n",
    "if datatype == 'uniform':\n",
    "    # Create the uniform datasets\n",
    "    indices = np.arange(0, len(onehots), dtype='int32')\n",
    "    train, test = train_test_split(indices, test_size=0.2, random_state=0)\n",
    "\n",
    "    train_onehot = onehots[train]\n",
    "    train_images = images[train]\n",
    "\n",
    "    test_onehot = onehots[test]\n",
    "    test_images = images[test]\n",
    "\n",
    "    np.save('data-uniform/train_onehot.npy', train_onehot)\n",
    "    np.save('data-uniform/train_images.npy', train_images)\n",
    "    np.save('data-uniform/test_onehot.npy', test_onehot)\n",
    "    np.save('data-uniform/test_images.npy', test_images)\n",
    "else:\n",
    "    pos_quadrant = np.where(onehots == 1.0)\n",
    "#     print(onehots.shape)\n",
    "    X = pos_quadrant[2]\n",
    "    Y = pos_quadrant[3]\n",
    "    \n",
    "    train_set = []\n",
    "    test_set = []\n",
    "\n",
    "    train_ids = []\n",
    "    test_ids = []\n",
    "\n",
    "    for i, (x, y) in enumerate(zip(X, Y)):\n",
    "        if x > 32 and y > 32:  # 4th quadrant\n",
    "            test_ids.append(i)\n",
    "            test_set.append([x, y])\n",
    "        else:\n",
    "            train_ids.append(i)\n",
    "            train_set.append([x, y])\n",
    "\n",
    "    train_set = np.array(train_set)\n",
    "    test_set = np.array(test_set)\n",
    "    \n",
    "    train_set = train_set[:, :, None, None]\n",
    "    test_set = test_set[:, :, None, None]\n",
    "\n",
    "    print(train_set.shape)\n",
    "    print(test_set.shape)\n",
    "\n",
    "    train_onehot = onehots[train_ids]\n",
    "    test_onehot = onehots[test_ids]\n",
    "\n",
    "    train_images = images[train_ids]\n",
    "    test_images = images[test_ids]\n",
    "\n",
    "    print(train_onehot.shape, test_onehot.shape)\n",
    "    print(train_images.shape, test_images.shape)\n",
    "\n",
    "    np.save('data-quadrant/train_set.npy', train_set)\n",
    "    np.save('data-quadrant/test_set.npy', test_set)\n",
    "    np.save('data-quadrant/train_onehot.npy', train_onehot)\n",
    "    np.save('data-quadrant/train_images.npy', train_images)\n",
    "    np.save('data-quadrant/test_onehot.npy', test_onehot)\n",
    "    np.save('data-quadrant/test_images.npy', test_images)"
   ]
  },
  {
   "cell_type": "markdown",
   "metadata": {},
   "source": [
    "## Load data numpy"
   ]
  },
  {
   "cell_type": "code",
   "execution_count": 5,
   "metadata": {},
   "outputs": [
    {
     "name": "stdout",
     "output_type": "stream",
     "text": [
      "Train set :  (2508, 2, 1, 1)\n",
      "Train set :  (2508, 2, 64, 64) 0.93650794 0.06349207\n",
      "Test set :  (628, 2, 64, 64) 0.93650794 0.06349207\n"
     ]
    },
    {
     "data": {
      "image/png": "[encoded data removed]",
      "text/plain": [
       "<Figure size 432x288 with 1 Axes>"
      ]
     },
     "metadata": {},
     "output_type": "display_data"
    },
    {
     "data": {
      "image/png": "[encoded data removed]",
      "text/plain": [
       "<Figure size 432x288 with 1 Axes>"
      ]
     },
     "metadata": {},
     "output_type": "display_data"
    }
   ],
   "source": [
    "if datatype == 'uniform':\n",
    "    # Load the one hot datasets\n",
    "    train_onehot = np.load('data-uniform/train_onehot.npy').astype('float32')\n",
    "    test_onehot = np.load('data-uniform/test_onehot.npy').astype('float32')\n",
    "\n",
    "    # (N, C, H, W) <=== 数据格式\n",
    "    # make the train and test datasets\n",
    "    # train\n",
    "    pos_train = np.where(train_onehot == 1.0)\n",
    "    X_train = pos_train[2]\n",
    "    Y_train = pos_train[3]\n",
    "    train_set = np.zeros((len(X_train), 2, 1, 1), dtype='float32')\n",
    "    for i, (x, y) in enumerate(zip(X_train, Y_train)):\n",
    "        train_set[i, 0, 0, 0] = x\n",
    "        train_set[i, 1, 0, 0] = y\n",
    "\n",
    "    # test\n",
    "    pos_test = np.where(test_onehot == 1.0)\n",
    "    X_test = pos_test[2]\n",
    "    Y_test = pos_test[3]\n",
    "    test_set = np.zeros((len(X_test), 2, 1, 1), dtype='float32')\n",
    "    for i, (x, y) in enumerate(zip(X_test, Y_test)):\n",
    "        test_set[i, 0, 0, 0] = x\n",
    "        test_set[i, 1, 0, 0] = y\n",
    "\n",
    "    print('Train set : ', train_set.shape)\n",
    "    train_set = np.tile(train_set, [1, 1, 64, 64])\n",
    "    test_set = np.tile(test_set, [1, 1, 64, 64])\n",
    "\n",
    "    # Normalize the datasets\n",
    "    train_set /= (64. - 1.)  # 64x64 grid, 0-based index\n",
    "    test_set /= (64. - 1.)  # 64x64 grid, 0-based index\n",
    "\n",
    "    print('Train set : ', train_set.shape, train_set.max(), train_set.min())\n",
    "    print('Test set : ', test_set.shape, test_set.max(), test_set.min())\n",
    "\n",
    "    # Visualize the datasets\n",
    "\n",
    "    plt.imshow(np.sum(train_onehot, axis=0)[0, :, :], cmap='gray')\n",
    "    plt.title('Train One-hot dataset')\n",
    "    plt.show()\n",
    "    plt.imshow(np.sum(test_onehot, axis=0)[0, :, :], cmap='gray')\n",
    "    plt.title('Test One-hot dataset')\n",
    "    plt.show()\n",
    "\n",
    "else:\n",
    "    # Load the one hot datasets and the train / test set\n",
    "    train_set = np.load('data-quadrant/train_set.npy').astype('float32')\n",
    "    test_set = np.load('data-quadrant/test_set.npy').astype('float32')\n",
    "\n",
    "    train_onehot = np.load('data-quadrant/train_onehot.npy').astype('float32')\n",
    "    test_onehot = np.load('data-quadrant/test_onehot.npy').astype('float32')\n",
    "\n",
    "    train_set = np.tile(train_set, [1, 1, 64, 64])\n",
    "    test_set = np.tile(test_set, [1, 1, 64, 64])\n",
    "\n",
    "    # Normalize datasets\n",
    "    train_set /= train_set.max()\n",
    "    test_set /= test_set.max()\n",
    "\n",
    "    print('Train set : ', train_set.shape, train_set.max(), train_set.min())\n",
    "    print('Test set : ', test_set.shape, test_set.max(), test_set.min())\n",
    "\n",
    "    # Visualize the datasets\n",
    "\n",
    "    plt.imshow(np.sum(train_onehot, axis=0)[0, :, :], cmap='gray')\n",
    "    plt.title('Train One-hot dataset')\n",
    "    plt.show()\n",
    "    plt.imshow(np.sum(test_onehot, axis=0)[0, :, :], cmap='gray')\n",
    "    plt.title('Test One-hot dataset')\n",
    "    plt.show()"
   ]
  },
  {
   "cell_type": "code",
   "execution_count": 6,
   "metadata": {},
   "outputs": [],
   "source": [
    "# flatten the datasets\n",
    "train_onehot = train_onehot.reshape((-1, 64 * 64)).astype('int64')\n",
    "test_onehot = test_onehot.reshape((-1, 64 * 64)).astype('int64')"
   ]
  },
  {
   "cell_type": "code",
   "execution_count": 14,
   "metadata": {},
   "outputs": [
    {
     "name": "stdout",
     "output_type": "stream",
     "text": [
      "----------------------------------------------------------------\n",
      "        Layer (type)               Output Shape         Param #\n",
      "================================================================\n",
      "         AddCoords-1            [-1, 4, 64, 64]               0\n",
      "            Conv2d-2           [-1, 32, 64, 64]             160\n",
      "       CoordConv2d-3           [-1, 32, 64, 64]              96\n",
      "            Conv2d-4           [-1, 64, 64, 64]           2,112\n",
      "            Conv2d-5           [-1, 64, 64, 64]           4,160\n",
      "            Conv2d-6            [-1, 1, 64, 64]              65\n",
      "            Conv2d-7            [-1, 1, 64, 64]               2\n",
      "================================================================\n",
      "Total params: 6,595\n",
      "Trainable params: 6,595\n",
      "Non-trainable params: 0\n",
      "----------------------------------------------------------------\n"
     ]
    }
   ],
   "source": [
    "# model definition\n",
    "\n",
    "class Net(nn.Module):\n",
    "    def __init__(self):\n",
    "        super(Net, self).__init__()\n",
    "        self.coordconv = CoordConv2d(2, 32, 1, with_r=False)\n",
    "        self.conv1 = nn.Conv2d(32, 64, 1)\n",
    "        self.conv2 = nn.Conv2d(64, 64, 1)\n",
    "        self.conv3 = nn.Conv2d(64,  1, 1)\n",
    "        self.conv4 = nn.Conv2d( 1,  1, 1)\n",
    "\n",
    "    def forward(self, x):\n",
    "        x = self.coordconv(x)\n",
    "        x = F.relu(self.conv1(x))\n",
    "        x = F.relu(self.conv2(x))\n",
    "        x = F.relu(self.conv3(x))\n",
    "        x = self.conv4(x)\n",
    "        x = x.view(-1, 64*64)\n",
    "        return x\n",
    "\n",
    "device = torch.device(\"cuda\" if torch.cuda.is_available() else \"cpu\")\n",
    "net = Net().to(device)\n",
    "\n",
    "summary(net, input_size=(2, 64, 64))"
   ]
  },
  {
   "cell_type": "markdown",
   "metadata": {},
   "source": [
    "## Make Datasets"
   ]
  },
  {
   "cell_type": "code",
   "execution_count": 15,
   "metadata": {},
   "outputs": [],
   "source": [
    "train_tensor_x = torch.stack([torch.Tensor(i) for i in train_set])\n",
    "train_tensor_y = torch.stack([torch.LongTensor(i) for i in train_onehot])\n",
    "\n",
    "train_dataset = utils.TensorDataset(train_tensor_x,train_tensor_y)\n",
    "train_dataloader = utils.DataLoader(train_dataset, batch_size=32, shuffle=False)\n",
    "\n",
    "test_tensor_x = torch.stack([torch.Tensor(i) for i in test_set])\n",
    "test_tensor_y = torch.stack([torch.LongTensor(i) for i in test_onehot])\n",
    "\n",
    "test_dataset = utils.TensorDataset(test_tensor_x,test_tensor_y)\n",
    "test_dataloader = utils.DataLoader(test_dataset, batch_size=32, shuffle=False)"
   ]
  },
  {
   "cell_type": "code",
   "execution_count": 16,
   "metadata": {},
   "outputs": [],
   "source": [
    "optimizer = torch.optim.Adam(net.parameters(), lr=1e-3)\n",
    "def cross_entropy_one_hot(input, target):\n",
    "    _, labels = target.max(dim=1)\n",
    "    return nn.CrossEntropyLoss()(input, labels)\n",
    "criterion = cross_entropy_one_hot\n",
    "epochs = 10"
   ]
  },
  {
   "cell_type": "code",
   "execution_count": 17,
   "metadata": {},
   "outputs": [],
   "source": [
    "def train(epoch, net, train_dataloader, optimizer, criterion, device):\n",
    "    net.train()\n",
    "    iters = 0\n",
    "    for batch_idx, (data, target) in enumerate(train_dataloader):\n",
    "        data, target = Variable(data), Variable(target)\n",
    "        data, target = data.to(device), target.to(device)\n",
    "        optimizer.zero_grad()\n",
    "        output = net(data)\n",
    "        loss = criterion(output, target)\n",
    "        loss.backward()\n",
    "        optimizer.step()\n",
    "        iters += len(data)\n",
    "        print('Train Epoch: {} [{}/{} ({:.0f}%)] Loss: {:.6f}'.format(\n",
    "                epoch, iters, len(train_dataloader.dataset),\n",
    "                100. * (batch_idx + 1) / len(train_dataloader), loss.data.item()), end='\\r', flush=True)\n",
    "    print(\"\")"
   ]
  },
  {
   "cell_type": "code",
   "execution_count": 18,
   "metadata": {},
   "outputs": [
    {
     "name": "stdout",
     "output_type": "stream",
     "text": [
      "Train Epoch: 1 [2508/2508 (100%)] Loss: 7.840931\n",
      "Train Epoch: 2 [2508/2508 (100%)] Loss: 4.514653\n",
      "Train Epoch: 3 [2508/2508 (100%)] Loss: 2.307229\n",
      "Train Epoch: 4 [2508/2508 (100%)] Loss: 1.239156\n",
      "Train Epoch: 5 [2508/2508 (100%)] Loss: 0.567990\n",
      "Train Epoch: 6 [2508/2508 (100%)] Loss: 0.292752\n",
      "Train Epoch: 7 [2508/2508 (100%)] Loss: 0.160531\n",
      "Train Epoch: 8 [2508/2508 (100%)] Loss: 0.101639\n",
      "Train Epoch: 9 [2508/2508 (100%)] Loss: 0.069184\n",
      "Train Epoch: 10 [2508/2508 (100%)] Loss: 0.050106\n"
     ]
    }
   ],
   "source": [
    "for epoch in range(1, epochs + 1):\n",
    "    train(epoch, net, train_dataloader, optimizer, criterion, device)"
   ]
  },
  {
   "cell_type": "code",
   "execution_count": 19,
   "metadata": {},
   "outputs": [],
   "source": [
    "def test(net, test_loader, optimizer, criterion, device):\n",
    "    net.eval()\n",
    "    test_loss = 0\n",
    "    correct = 0\n",
    "    pred_logits = torch.tensor([])\n",
    "    for data, target in test_loader:\n",
    "        with torch.no_grad():\n",
    "            data, target = Variable(data), Variable(target)\n",
    "        data, target = data.to(device), target.to(device)\n",
    "        output = net(data)\n",
    "        logits = F.softmax(output, dim=1)\n",
    "        pred_logits = torch.cat((pred_logits, logits.cpu()), dim=0)\n",
    "        test_loss += criterion(output, target).item()\n",
    "        _, pred = output.max(1, keepdim=True)\n",
    "        _, label = target.max(dim=1)\n",
    "        correct += pred.eq(label.view_as(pred)).sum().item()\n",
    "\n",
    "    test_loss = test_loss\n",
    "    test_loss /= len(test_loader) # loss function already averages over batch size\n",
    "    print('\\nTest set: Average loss: {:.4f}, Accuracy: {}/{} ({:.0f}%)\\n'.format(\n",
    "        test_loss, correct, len(test_loader.dataset),\n",
    "        100. * correct / len(test_loader.dataset)))\n",
    "    pred_logits = torch.sum(pred_logits, dim=0)\n",
    "    plt.imshow(pred_logits.detach().numpy().reshape(-1,64), cmap='gray')\n",
    "    plt.title('Predictions One-hot dataset')"
   ]
  },
  {
   "cell_type": "code",
   "execution_count": 20,
   "metadata": {},
   "outputs": [
    {
     "name": "stdout",
     "output_type": "stream",
     "text": [
      "\n",
      "Test set: Average loss: 0.0523, Accuracy: 628/628 (100%)\n",
      "\n"
     ]
    },
    {
     "data": {
      "image/png": "[encoded data removed]",
      "text/plain": [
       "<Figure size 432x288 with 1 Axes>"
      ]
     },
     "metadata": {},
     "output_type": "display_data"
    }
   ],
   "source": [
    "test(net, test_dataloader, optimizer, criterion, device)"
   ]
  },
  {
   "cell_type": "code",
   "execution_count": null,
   "metadata": {},
   "outputs": [],
   "source": []
  }
 ],
 "metadata": {
  "kernelspec": {
   "display_name": "Python 3",
   "language": "python",
   "name": "python3"
  },
  "language_info": {
   "codemirror_mode": {
    "name": "ipython",
    "version": 3
   },
   "file_extension": ".py",
   "mimetype": "text/x-python",
   "name": "python",
   "nbconvert_exporter": "python",
   "pygments_lexer": "ipython3",
   "version": "3.6.5"
  }
 },
 "nbformat": 4,
 "nbformat_minor": 2
}
